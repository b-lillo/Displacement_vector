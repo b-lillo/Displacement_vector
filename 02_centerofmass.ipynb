{
 "cells": [
  {
   "cell_type": "markdown",
   "id": "93b3cc68",
   "metadata": {},
   "source": [
    "Este cuaderno calculará los centro de masas de dos proteinas, los alinearà y finalmente calcularà el vector de desplazamiento\n",
    "Importante!: solo se utilizaràn proteinas modeladas con modeller sin considerar atomos de H"
   ]
  },
  {
   "cell_type": "markdown",
   "id": "feff73cd",
   "metadata": {},
   "source": [
    "##### 1 determinacion en la composicion atomica de la proteina\n",
    "##### 2 determinacion del centro de masa en el plano cartesiano\n",
    "##### 3 alinear dos estructuras por metodo RMSD"
    "##### 4 calcular el vector de desplazamiento entre los centros de masas de dos proteinas"
   ]
  },
  {
   "cell_type": "code",
   "execution_count": 1,
   "id": "3dc55fa5",
   "metadata": {},
   "outputs": [],
   "source": [
    "#Funcion para determinar los elementos de una proteina \n",
    "def atom_description(pdb_file):\n",
    "    handle = open(pdb_file)\n",
    "    atom_unic = set()\n",
    "    for i in handle:\n",
    "        if i.startswith('ATOM'):\n",
    "            atom_unic.add(i[77])\n",
    "    for j in atom_unic:\n",
    "        print(j)\n"
   ]
  },
  {
   "cell_type": "code",
   "execution_count": 3,
   "id": "a57c21fe",
   "metadata": {},
   "outputs": [
    {
     "name": "stdout",
     "output_type": "stream",
     "text": [
      "C\n",
      "O\n",
      "S\n",
      "N\n"
     ]
    }
   ],
   "source": [
    "pdb_file = '4GBY_SP.B99990013.pdb'\n",
    "atom_description(pdb_file)"
   ]
  },
  {
   "cell_type": "code",
   "execution_count": 65,
   "id": "eb2856ac",
   "metadata": {},
   "outputs": [],
   "source": [
    "#funcion para calcular el centro de masa desde un .pdb\n",
    "def center_off_mass(pdb_file):\n",
    "    mass_atomic = {'H': 1.0079, 'S': 32.065, 'C': 12.0107, 'O': 15.9994, 'N': 14.0067}\n",
    "    x = []\n",
    "    y = []\n",
    "    z = []\n",
    "    mass = []\n",
    "    mass_value = []\n",
    "    with open(pdb_file, \"r\") as f:\n",
    "        for i in f:\n",
    "            if i.startswith('ATOM'):\n",
    "                cols = i.strip().split()\n",
    "                x.append(float(cols[6]))\n",
    "                y.append(float(cols[7]))\n",
    "                z.append(float(cols[8]))\n",
    "                mass.append(cols[10])\n",
    "    for j in mass:\n",
    "        if j in mass_atomic:\n",
    "            mass_value.append(mass_atomic[j])\n",
    "    #CM = (Σmi * ri) / Σmi\n",
    "    cmx = sum(mass_value)*sum(x) / sum(mass_value)\n",
    "    cmy = sum(mass_value)*sum(y) / sum(mass_value)\n",
    "    cmz = sum(mass_value)*sum(z) / sum(mass_value)\n",
    "    print('cmx:cmy:cmz', cmx,cmy,cmz)\n",
    "    \n",
    "\n",
    "            "
   ]
  },
  {
   "cell_type": "code",
   "execution_count": 68,
   "id": "c052dc0a",
   "metadata": {},
   "outputs": [
    {
     "name": "stdout",
     "output_type": "stream",
     "text": [
      "cmx:cmy:cmz 77060.08199999995 -121685.97799999999 1858.9959999999726\n"
     ]
    }
   ],
   "source": [
    "pdb_file = '4GBY_SP.B99990013.pdb'\n",
    "center_off_mass(pdb_file)"
   ]
  },
  {
   "cell_type": "code",
   "execution_count": 57,
   "id": "24dfde7d",
   "metadata": {},
   "outputs": [],
   "source": [
    "#funcion para orientar proteinas a un modelo centrico\n",
    "#Prot 1 template de punto centrico\n",
    "#Prot 2 proteina a la cual deseamos orientar\n",
    "def origen_pdb(pdb_file1,pdb_file2):\n",
    "    import Bio.PDB\n",
    "    id_1 = str(input('Ingrese ID prot1: '))\n",
    "    id_2 = str(input('Ingrese ID prot2: '))\n",
    "    #parser\n",
    "    handle_1 = open(pdb_file1)\n",
    "    handle_2 = open(pdb_file2)\n",
    "    parser = Bio.PDB.PDBParser()\n",
    "    structure_prot1 = parser.get_structure('id_1',handle_1)\n",
    "    structure_prot2 = parser.get_structure('id_2',handle_2)\n",
    "    #alinear CA para la superpos estos deben ir en una variable\n",
    "    atoms_prot1 = []\n",
    "    atoms_prot2 = []\n",
    "    \n",
    "    #iterar sobre la primera proteina\n",
    "    #la idea es solo utilizar las coordenadas de los atomos CA\n",
    "    for model in structure_prot1:\n",
    "        for chain in model:\n",
    "            for res in chain:\n",
    "                for atom in res:\n",
    "                    if atom.get_id() == 'CA':\n",
    "                        atoms_prot1.append(atom)\n",
    "    #iterar sonre la segunda proteina\n",
    "    for model in structure_prot2:\n",
    "        for chain in model:\n",
    "            for res in chain:\n",
    "                for atom in res:\n",
    "                    if atom.get_id() == 'CA':\n",
    "                        atoms_prot2.append(atom)\n",
    "\n",
    "    #superponer estructuras\n",
    "    Superimposer = Bio.PDB.Superimposer()\n",
    "    Superimposer.set_atoms(atoms_prot1,atoms_prot2)\n",
    "    Superimposer.apply(structure_prot2.get_atoms())\n",
    "    print(Superimposer.rms)\n",
    "    #guardar pdb de la estructura 2\n",
    "    #la deja en la ruta actual\n",
    "    io = Bio.PDB.PDBIO()\n",
    "    io.set_structure(structure_prot2)\n",
    "    io.save(id_2+'_superpos.pdb')\n",
    "    \n",
    "    \n",
    "    "
   ]
  },
  {
   "cell_type": "code",
   "execution_count": 58,
   "id": "f2e69bb5",
   "metadata": {},
   "outputs": [
    {
     "name": "stdout",
     "output_type": "stream",
     "text": [
      "Ingrese ID prot1: 4GBY\n",
      "Ingrese ID prot2: 4JA4\n",
      "4.8498541406355145\n"
     ]
    },
    {
     "name": "stderr",
     "output_type": "stream",
     "text": [
      "/home/bld/miniconda3/envs/molecular_dynamics/lib/python3.11/site-packages/Bio/PDB/PDBParser.py:395: PDBConstructionWarning: Ignoring unrecognized record 'END' at line 3791\n",
      "  warnings.warn(\n",
      "/home/bld/miniconda3/envs/molecular_dynamics/lib/python3.11/site-packages/Bio/PDB/PDBParser.py:395: PDBConstructionWarning: Ignoring unrecognized record 'END' at line 3791\n",
      "  warnings.warn(\n"
     ]
    }
   ],
   "source": [
    "pdb_file1 = '/home/bld/tesis/4GBY_model/4GBY_SP.B99990013.pdb'\n",
    "pdb_file2 = '/home/bld/tesis/4JA4_model/4JA4_SP.B99990014.pdb'\n",
    "origen_pdb(pdb_file1,pdb_file2)"
   ]
  },
  {
   "cell_type": "code",
   "execution_count": 69,
   "id": "5f34d278",
   "metadata": {},
   "outputs": [
    {
     "name": "stdout",
     "output_type": "stream",
     "text": [
      "cmx:cmy:cmz 76922.04999999994 -121469.96599999987 1941.4910000000198\n"
     ]
    }
   ],
   "source": [
    "pdb_file = '4JA4_superpos.pdb'\n",
    "center_off_mass(pdb_file)"
   ]
  },
  {
   "cell_type": "code",
   "execution_count": 80,
   "id": "f39c09c0",
   "metadata": {},
   "outputs": [
    {
     "name": "stdout",
     "output_type": "stream",
     "text": [
      "vector de desplazamiento: 138.032 -216.012 -82.495\n"
     ]
    }
   ],
   "source": [
    "#calcular vector desplazamiento\n",
    "prot_4GBY = [77060.08199999995, -121685.97799999999, 1858.9959999999726] \n",
    "prot_4JA4 = [76922.04999999994, -121469.96599999987, 1941.4910000000198]\n",
    "\n",
    "vector_cmx = prot_4GBY[0]-prot_4JA4[0]\n",
    "vector_cmy = prot_4GBY[1]-prot_4JA4[1]\n",
    "vector_cmz = prot_4GBY[2]-prot_4JA4[2]\n",
    "print('vector de desplazamiento:', round(vector_cmx,3), round(vector_cmy,3), round(vector_cmz,3))"
   ]
  }
 ],
 "metadata": {
  "kernelspec": {
   "display_name": "Python 3 (ipykernel)",
   "language": "python",
   "name": "python3"
  },
  "language_info": {
   "codemirror_mode": {
    "name": "ipython",
    "version": 3
   },
   "file_extension": ".py",
   "mimetype": "text/x-python",
   "name": "python",
   "nbconvert_exporter": "python",
   "pygments_lexer": "ipython3",
   "version": "3.11.3"
  }
 },
 "nbformat": 4,
 "nbformat_minor": 5
}
